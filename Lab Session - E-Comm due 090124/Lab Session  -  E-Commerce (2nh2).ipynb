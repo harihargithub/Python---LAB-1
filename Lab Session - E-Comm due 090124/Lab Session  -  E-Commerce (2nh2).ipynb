{
 "cells": [
  {
   "cell_type": "markdown",
   "id": "2c8f47d3",
   "metadata": {
    "id": "2c8f47d3"
   },
   "source": [
    "# Lab Session"
   ]
  },
  {
   "cell_type": "markdown",
   "id": "f637aba6",
   "metadata": {
    "id": "f637aba6"
   },
   "source": [
    "## <font color='blue'> Table Of Contents </font>\n",
    "- Problem Statement \n",
    "- Load required libraries\n",
    "- Connect to DB using mysql-connector-python package\n",
    "- Create database named `e_commerce`\n",
    "- Create tables and insert data into tables as specified in the question\n",
    "- Read all the questions and write sql queries to meet the objective "
   ]
  },
  {
   "cell_type": "markdown",
   "id": "1073fc90",
   "metadata": {
    "id": "1073fc90"
   },
   "source": [
    "## <font color='blue'> Problem Statement </font>\n",
    "###  An E-commerce website manages its data in the form of various tables.\n",
    "You need to create a Database called `e_commerce` and various tables in it. The tables needed and attributes which need to be in every table are given before hand. All you have to do is create tables with data in it and answer some of the questions that follows."
   ]
  },
  {
   "cell_type": "markdown",
   "id": "48787355",
   "metadata": {
    "id": "48787355"
   },
   "source": [
    "### e_commerce Schema:"
   ]
  },
  {
   "cell_type": "markdown",
   "id": "78938fbc",
   "metadata": {
    "id": "78938fbc"
   },
   "source": [
    "![e_commerce_schema.png](./e_commerce_schema.png)"
   ]
  },
  {
   "cell_type": "markdown",
   "id": "d9abe6c7",
   "metadata": {
    "id": "d9abe6c7"
   },
   "source": [
    "### Load Required Libraries"
   ]
  },
  {
   "cell_type": "code",
   "execution_count": 26,
   "id": "0178d08e",
   "metadata": {
    "id": "0178d08e"
   },
   "outputs": [],
   "source": [
    "import mysql.connector\n",
    "import pandas as pd"
   ]
  },
  {
   "cell_type": "code",
   "execution_count": 42,
   "id": "fed3db2b-2a9e-4c41-81db-af806051d9a1",
   "metadata": {},
   "outputs": [],
   "source": [
    "pd.set_option('display.max_colwidth', None)"
   ]
  },
  {
   "cell_type": "markdown",
   "id": "d7d7fd5c",
   "metadata": {
    "id": "d7d7fd5c"
   },
   "source": [
    "### Connect to DB using Mysql-connector-python package"
   ]
  },
  {
   "cell_type": "code",
   "execution_count": 27,
   "id": "ef7bef72",
   "metadata": {
    "id": "ef7bef72"
   },
   "outputs": [
    {
     "name": "stdout",
     "output_type": "stream",
     "text": [
      "<mysql.connector.connection_cext.CMySQLConnection object at 0x000001F3BC2D6550>\n"
     ]
    }
   ],
   "source": [
    "import mysql.connector\n",
    "  \n",
    "connection = mysql.connector.connect(host =\"localhost\",\n",
    "                                    user =\"root\",\n",
    "                                    passwd =\"1504mysqlrp7@#\")\n",
    " \n",
    "print(connection)"
   ]
  },
  {
   "cell_type": "markdown",
   "id": "9d55e510",
   "metadata": {
    "id": "9d55e510"
   },
   "source": [
    "### You are required to create a database named 'e_commerce'"
   ]
  },
  {
   "cell_type": "code",
   "execution_count": 3,
   "id": "42a154f2",
   "metadata": {
    "id": "42a154f2"
   },
   "outputs": [
    {
     "name": "stdout",
     "output_type": "stream",
     "text": [
      "Database 'e_comm' already exists.\n"
     ]
    }
   ],
   "source": [
    "## Lets make a connection to Mysql server and perform some operations\n",
    "import pandas as pd\n",
    "import mysql.connector\n",
    "\n",
    "try:\n",
    "    connection = mysql.connector.connect(host =\"localhost\",\n",
    "                                         user =\"root\",\n",
    "                                         passwd =\"1504mysqlrp7@#\")\n",
    "    cursorObject = connection.cursor()\n",
    "    cursorObject.execute(\"SHOW DATABASES\")\n",
    "    databases = cursorObject.fetchall()\n",
    "    if ('e_comm',) in databases:\n",
    "        print(\"Database 'e_comm' already exists.\")\n",
    "    else:\n",
    "        cursorObject.execute(\"CREATE DATABASE e_comm\")\n",
    "        print(\"Database 'e_comm' created successfully.\")\n",
    "except mysql.connector.Error as err:\n",
    "    print(\"Failed creating database: {}\".format(err))\n",
    "finally:\n",
    "    if connection:\n",
    "        cursorObject.close()\n",
    "        connection.close()"
   ]
  },
  {
   "cell_type": "markdown",
   "id": "480dc986",
   "metadata": {
    "id": "480dc986"
   },
   "source": [
    "### Q1. Create tables for supplier, customer, category, product, productDetails, order, rating to store the data for the E-commerce with the schema definition given below.\n",
    "\n",
    "\n",
    "- **`supplier`**(SUPP_ID int primary key, SUPP_NAME varchar(50), SUPP_CITY varchar(50), SUPP_PHONE varchar(10))\n",
    "\n",
    "\n",
    "- **`customer`** (CUS_ID INT NOT NULL, CUS_NAME VARCHAR(20) NULL DEFAULT NULL, CUS_PHONE VARCHAR(10), CUS_CITY varchar(30) ,CUS_GENDER CHAR,PRIMARY KEY (CUS_ID))\n",
    "\n",
    "\n",
    "- **`category`** (CAT_ID INT NOT NULL, CAT_NAME VARCHAR(20) NULL DEFAULT NULL,PRIMARY KEY (CAT_ID))\n",
    "\n",
    "\n",
    "- **`product`** (PRO_ID INT NOT NULL, PRO_NAME VARCHAR(20) NULL DEFAULT NULL, PRO_DESC VARCHAR(60) NULL DEFAULT NULL, CAT_ID INT NOT NULL,PRIMARY KEY (PRO_ID),FOREIGN KEY (CAT_ID) REFERENCES CATEGORY (CAT_ID))\n",
    "\n",
    "\n",
    "- **`product_details`** (PROD_ID INT NOT NULL, PRO_ID INT NOT NULL, SUPP_ID INT NOT NULL, PROD_PRICE INT NOT NULL,\n",
    "  PRIMARY KEY (PROD_ID),FOREIGN KEY (PRO_ID) REFERENCES PRODUCT (PRO_ID), FOREIGN KEY (SUPP_ID) REFERENCES SUPPLIER(SUPP_ID))\n",
    "  \n",
    "  \n",
    "- **`order`** (ORD_ID INT NOT NULL, ORD_AMOUNT INT NOT NULL, ORD_DATE DATE, CUS_ID INT NOT NULL, PROD_ID INT NOT NULL,PRIMARY KEY (ORD_ID),FOREIGN KEY (CUS_ID) REFERENCES CUSTOMER(CUS_ID),FOREIGN KEY (PROD_ID) REFERENCES PRODUCT_DETAILS(PROD_ID))\n",
    "\n",
    "\n",
    "- **`rating`** (RAT_ID INT NOT NULL, CUS_ID INT NOT NULL, SUPP_ID INT NOT NULL, RAT_RATSTARS INT NOT NULL,PRIMARY KEY (RAT_ID),FOREIGN KEY (SUPP_ID) REFERENCES SUPPLIER (SUPP_ID),FOREIGN KEY (CUS_ID) REFERENCES CUSTOMER(CUS_ID))"
   ]
  },
  {
   "cell_type": "code",
   "execution_count": 4,
   "id": "967b718f",
   "metadata": {
    "id": "967b718f"
   },
   "outputs": [],
   "source": [
    "## Connect to Mysql server and choose the database('e_comm') while connecting to the server\n",
    "import mysql.connector\n",
    "\n",
    "try:\n",
    "    connection = mysql.connector.connect(host =\"localhost\",\n",
    "                                     user =\"root\",\n",
    "                                     passwd =\"1504mysqlrp7@#\",\n",
    "                                     database = \"e_comm\")\n",
    "\n",
    "    # creating a cursor object\n",
    "    cursorObject = connection.cursor()\n",
    "\n",
    "    table_creation_query = \"\"\"CREATE TABLE supplier (`SUPP_ID` INT PRIMARY KEY,`SUPP_NAME` varchar(50) ,\n",
    "                    `SUPP_CITY` varchar(50),`SUPP_PHONE` varchar(10));\n",
    "                    \n",
    "                    CREATE TABLE customer (`CUS_ID` INT NOT NULL,`CUS_NAME` VARCHAR(20) NULL DEFAULT NULL,\n",
    "                    `CUS_PHONE` VARCHAR(10),`CUS_CITY` varchar(30) ,`CUS_GENDER` CHAR,PRIMARY KEY (`CUS_ID`));\n",
    "                    \n",
    "                    CREATE TABLE category (`CAT_ID` INT NOT NULL,`CAT_NAME` VARCHAR(20) NULL DEFAULT NULL,\n",
    "                    PRIMARY KEY (`CAT_ID`));\n",
    "\n",
    "                    CREATE TABLE product (`PRO_ID` INT NOT NULL,`PRO_NAME` VARCHAR(20) NULL DEFAULT NULL,\n",
    "                    `PRO_DESC` VARCHAR(60) NULL DEFAULT NULL,`CAT_ID` INT NOT NULL,PRIMARY KEY (`PRO_ID`),\n",
    "                    FOREIGN KEY (`CAT_ID`) REFERENCES CATEGORY (`CAT_ID`));\n",
    "                    \n",
    "                    CREATE TABLE product_details (`PROD_ID` INT NOT NULL,`PRO_ID` INT NOT NULL,`SUPP_ID` INT NOT NULL,\n",
    "                    `PROD_PRICE` INT NOT NULL, PRIMARY KEY (`PROD_ID`),FOREIGN KEY (`PRO_ID`) REFERENCES PRODUCT (`PRO_ID`),\n",
    "                    FOREIGN KEY (`SUPP_ID`) REFERENCES SUPPLIER(`SUPP_ID`));\n",
    "                      \n",
    "                    CREATE TABLE orders (`ORD_ID` INT NOT NULL,`ORD_AMOUNT` INT NOT NULL,`ORD_DATE` DATE,\n",
    "                    `CUS_ID` INT NOT NULL,`PROD_ID` INT NOT NULL, PRIMARY KEY (`ORD_ID`),\n",
    "                    FOREIGN KEY (`CUS_ID`) REFERENCES CUSTOMER(`CUS_ID`),\n",
    "                    FOREIGN KEY (`PROD_ID`) REFERENCES PRODUCT_DETAILS(`PROD_ID`));\n",
    "                    \n",
    "                    CREATE TABLE rating (`RAT_ID` INT NOT NULL,`CUS_ID` INT NOT NULL,\n",
    "                    `SUPP_ID` INT NOT NULL,`RAT_RATSTARS` INT NOT NULL,PRIMARY KEY (`RAT_ID`),\n",
    "                    FOREIGN KEY (`SUPP_ID`) REFERENCES SUPPLIER (`SUPP_ID`),\n",
    "                    FOREIGN KEY (`CUS_ID`) REFERENCES CUSTOMER(`CUS_ID`));\"\"\"\n",
    "                    \n",
    "                    \n",
    "    # Executing the query\n",
    "    cursorObject.execute(table_creation_query)\n",
    "\n",
    "except mysql.connector.Error as err:\n",
    "    print(\"An error occurred: {}\".format(err))\n",
    "\n",
    "finally:\n",
    "    if connection:\n",
    "        cursorObject.close()\n",
    "        connection.close()\n"
   ]
  },
  {
   "cell_type": "code",
   "execution_count": 12,
   "id": "a9dfa758",
   "metadata": {},
   "outputs": [],
   "source": [
    "connection.close()"
   ]
  },
  {
   "cell_type": "code",
   "execution_count": 14,
   "id": "311a991c",
   "metadata": {},
   "outputs": [
    {
     "data": {
      "text/plain": [
       "<mysql.connector.cursor_cext.CMySQLCursor at 0x1c7598a5510>"
      ]
     },
     "execution_count": 14,
     "metadata": {},
     "output_type": "execute_result"
    }
   ],
   "source": [
    "## Connect to Mysql server and choose the database('Orders') while connecting to the server\n",
    "connection = mysql.connector.connect(host =\"localhost\",\n",
    "                                     user =\"root\",\n",
    "                                     passwd =\"1504mysqlrp7@#\",\n",
    "                                     database = \"e_comm\")\n",
    "\n",
    "# creating a cursor object\n",
    "cursorObject = connection.cursor()\n",
    "cursorObject"
   ]
  },
  {
   "cell_type": "markdown",
   "id": "1f653731",
   "metadata": {
    "id": "1f653731"
   },
   "source": [
    "### Q2. Insert the following data in the table created above\n",
    "#### `Note:` If you are getting any error while inserting the data into tables, Kindly close the connection and reconnect\n",
    "\n",
    "#### Table:  supplier\n",
    "| SUPP_ID | SUPP_NAME | SUPP_CITY | SUPP_PHONE |\n",
    "| --- | --- | --- | --- | \n",
    "| 1 | Rajesh Retails | Delhi | 1234567890 |\n",
    "| 2 | Appario Ltd. | Mumbai | 258963147032 | \n",
    "| 3 | Knome products | Bangalore | 9785462315 |\n",
    "| 4 | Bansal Retails | Kochi | 8975463285 |\n",
    "| 5 | Mittal Ltd. | Lucknow | 7898456532 |"
   ]
  },
  {
   "cell_type": "code",
   "execution_count": 7,
   "id": "f6dddd07",
   "metadata": {
    "id": "f6dddd07"
   },
   "outputs": [
    {
     "name": "stdout",
     "output_type": "stream",
     "text": [
      "Records inserted successfully.\n"
     ]
    }
   ],
   "source": [
    "# insert into \"supplier\" table\n",
    "insert_query = \"INSERT INTO supplier (SUPP_ID, SUPP_NAME, SUPP_CITY, SUPP_PHONE) VALUES (%s, %s, %s, %s)\"\n",
    "val = [(1,\"Rajesh Retails\",\"Delhi\",'1234567890'),\n",
    "          (2,\"Appario Ltd.\",\"Mumbai\",'2589631470'),\n",
    "          (3,\"Knome products\",\"Banglore\",'9785462315'),\n",
    "          (4,\"Bansal Retails\",\"Kochi\",'8975463285'),\n",
    "          (5,\"Mittal Ltd.\",\"Lucknow\",'7898456532')]\n",
    "\n",
    "try:\n",
    "       cursorObject.executemany(insert_query, val)\n",
    "       connection.commit()\n",
    "       print(\"Records inserted successfully.\")\n",
    "except mysql.connector.Error as error:\n",
    "       print(\"Failed to insert into MySQL table {}\".format(error))\n"
   ]
  },
  {
   "cell_type": "markdown",
   "id": "e8a070a6",
   "metadata": {
    "id": "e8a070a6"
   },
   "source": [
    "#### Table:  customer\n",
    "| CUS_ID | CUS_NAME | SUPP_PHONE | CUS_CITY | CUS_GENDER\n",
    "| --- | --- | --- | --- | --- |\n",
    "| 1 | AAKASH | 9999999999 | DELHI | M |\n",
    "| 2 | AMAN | 9785463215 | NOIDA | M |\n",
    "| 3 | NEHA | 9999999998 | MUMBAI | F |\n",
    "| 4 | MEGHA | 9994562399 | KOLKATA | F |\n",
    "| 5 | PULKIT | 7895999999 | LUCKNOW | M |"
   ]
  },
  {
   "cell_type": "code",
   "execution_count": 8,
   "id": "15a4ee87",
   "metadata": {
    "id": "15a4ee87"
   },
   "outputs": [
    {
     "name": "stdout",
     "output_type": "stream",
     "text": [
      "Records inserted successfully.\n"
     ]
    }
   ],
   "source": [
    "# insert into \"customer\" table\n",
    "insert_query = \"INSERT INTO customer (CUS_ID, CUS_NAME, CUS_PHONE, CUS_CITY, CUS_GENDER) VALUES (%s, %s, %s, %s, %s)\"\n",
    "val = [(1,\"AAKASH\",'9999999999',\"DELHI\",'M'),\n",
    "       (2,\"AMAN\",'9785463215',\"NOIDA\",'M'),\n",
    "       (3,\"NEHA\",'9999999999',\"MUMBAI\",'F'),\n",
    "       (4,\"MEGHA\",'9994562399',\"KOLKATA\",'F'),\n",
    "       (5,\"PULKIT\",'7895999999',\"LUCKNOW\",'M')]\n",
    "\n",
    "\n",
    "try:\n",
    "    cursorObject.executemany(insert_query, val)\n",
    "    connection.commit()\n",
    "    print(\"Records inserted successfully.\")\n",
    "except mysql.connector.Error as error:\n",
    "    print(\"Failed to insert into MySQL table {}\".format(error))\n"
   ]
  },
  {
   "cell_type": "markdown",
   "id": "b68bfbc2",
   "metadata": {
    "id": "b68bfbc2"
   },
   "source": [
    "#### Table:  category\n",
    "| CAT_ID | CAT_NAME | \n",
    "| --- | --- |  \n",
    "| 1 | BOOKS |\n",
    "| 2 | GAMES |  \n",
    "| 3 | GROCERIES | \n",
    "| 4 | ELECTRONICS | \n",
    "| 5 | CLOTHES | "
   ]
  },
  {
   "cell_type": "code",
   "execution_count": 9,
   "id": "05a00abc",
   "metadata": {
    "id": "05a00abc"
   },
   "outputs": [
    {
     "name": "stdout",
     "output_type": "stream",
     "text": [
      "Records inserted successfully.\n"
     ]
    }
   ],
   "source": [
    "# insert into \"categoty\" table\n",
    "insert_query = \"INSERT INTO category (CAT_ID, CAT_NAME) VALUES (%s, %s)\"\n",
    "val = [(1,\"BOOKS\"),\n",
    "       (2,\"GAMES\"),\n",
    "       (3,\"GROCERIES\"),\n",
    "       (4,\"ELECTRONICS\"),\n",
    "       (5,\"CLOTHES\")]\n",
    "\n",
    "\n",
    "try:\n",
    "    cursorObject.executemany(insert_query, val)\n",
    "    connection.commit()\n",
    "    print(\"Records inserted successfully.\")\n",
    "except mysql.connector.Error as error:\n",
    "    print(\"Failed to insert into MySQL table {}\".format(error))"
   ]
  },
  {
   "cell_type": "markdown",
   "id": "eb3bc592",
   "metadata": {
    "id": "eb3bc592"
   },
   "source": [
    "#### Table:  product\n",
    "| PRO_ID | PRO_NAME | PRO_DESC | CAT_ID |\n",
    "| --- | --- | --- | --- | \n",
    "| 1 | GTA V | DFJDJFDJFDJFDJFJF | 2 |\n",
    "| 2 | TSHIRT | DFDFJDFJDKFD | 5 | \n",
    "| 3 | ROG LAPTOP | DFNTTNTNTERND | 4 |\n",
    "| 4 | OATS | REURENTBTOTH | 3 |\n",
    "| 5 | HARRY POTTER | NBEMCTHTJTH | 1 |\n"
   ]
  },
  {
   "cell_type": "code",
   "execution_count": 15,
   "id": "cdfbdfad",
   "metadata": {
    "id": "cdfbdfad"
   },
   "outputs": [
    {
     "name": "stdout",
     "output_type": "stream",
     "text": [
      "Records inserted successfully.\n"
     ]
    }
   ],
   "source": [
    "# insert into \"product\" table\n",
    "insert_query = \"INSERT INTO product (PRO_ID, PRO_NAME, PRO_DESC, CAT_ID) VALUES (%s, %s, %s, %s)\"\n",
    "val = [(1,\"GTA V\",\"DFJDJFDJFDJFDJFJF\",2),\n",
    "       (2,\"TSHIRT\",\"DFDFJDFJDKFD\",5),\n",
    "       (3,\"ROG LAPTOP\",\"DFNTTNTNTERND\",4),\n",
    "       (4,\"OATS\",\"REURENTBTOTH\",3),\n",
    "       (5,\"HARRY POTTER\",\"NBEMCTHTJTH\",1)]\n",
    "\n",
    "try:\n",
    "    cursorObject.executemany(insert_query, val)\n",
    "    connection.commit()\n",
    "    print(\"Records inserted successfully.\")\n",
    "except mysql.connector.Error as error:\n",
    "    print(\"Failed to insert into MySQL table {}\".format(error))"
   ]
  },
  {
   "cell_type": "markdown",
   "id": "cfa8a47d",
   "metadata": {
    "id": "cfa8a47d"
   },
   "source": [
    "#### Table:  product_details\n",
    "| PROD_ID | PRO_ID | SUPP_ID | PROD_PRICE |\n",
    "| --- | --- | --- | --- | \n",
    "| 1 | 1 | 2 | 1500 |\n",
    "| 2 | 3 | 5 | 30000 | \n",
    "| 3 | 5 | 1 | 3000 |\n",
    "| 4 | 2 | 3 | 2500 |\n",
    "| 5 | 4 | 1 | 1000 |"
   ]
  },
  {
   "cell_type": "code",
   "execution_count": 16,
   "id": "c18ea964",
   "metadata": {
    "id": "c18ea964"
   },
   "outputs": [
    {
     "name": "stdout",
     "output_type": "stream",
     "text": [
      "Records inserted successfully.\n"
     ]
    }
   ],
   "source": [
    "# insert into \"product_details\" table\n",
    "insert_query = \"INSERT INTO product_details (PROD_ID, PRO_ID, SUPP_ID, PROD_PRICE) VALUES (%s, %s, %s, %s)\"\n",
    "val = [(1,1,2,1500),\n",
    "       (2,3,5,30000),\n",
    "       (3,5,1,3000),\n",
    "       (4,2,3,2500),\n",
    "       (5,4,1,1000)]\n",
    "\n",
    "\n",
    "try:\n",
    "    cursorObject.executemany(insert_query, val)\n",
    "    connection.commit()\n",
    "    print(\"Records inserted successfully.\")\n",
    "except mysql.connector.Error as error:\n",
    "    print(\"Failed to insert into MySQL table {}\".format(error))"
   ]
  },
  {
   "cell_type": "markdown",
   "id": "1df49086",
   "metadata": {
    "id": "1df49086"
   },
   "source": [
    "#### Table:  orders\n",
    "| ORD_ID | ORD_AMOUNT | ORD_DATE | CUS_ID | PROD_ID\n",
    "| --- | --- | --- | --- | --- |\n",
    "| 20 | 1500 | 2021-10-12 | 3 | 5 |\n",
    "| 25 | 30500 | 2021-09-16 | 5 | 2 |\n",
    "| 26 | 2000 | 2021-10-05 | 1 | 1 |\n",
    "| 30 | 3500 | 2021-08-16 | 4 | 3 |\n",
    "| 50 | 2000 | 2021-10-06 | 2 | 1 |"
   ]
  },
  {
   "cell_type": "code",
   "execution_count": 17,
   "id": "0d97dc92",
   "metadata": {
    "id": "0d97dc92"
   },
   "outputs": [],
   "source": [
    "# insert into \"orders\" table\n",
    "insert_query = \"INSERT INTO orders (ORD_ID, ORD_AMOUNT, ORD_DATE, CUS_ID, PROD_ID) VALUES (%s, %s, %s, %s, %s)\"\n",
    "val = [(20,1500,\"2021-10-12\",3,5),\n",
    "       (25,30500,\"2021-09-16\",5,2),\n",
    "       (26,2000,\"2021-10-05\",1,1),\n",
    "       (30,3500,\"2021-08-16\",4,3),\n",
    "       (50,2000,\"2021-10-06\",2,1)]\n",
    "\n",
    "\n",
    "try:\n",
    "    cursorObject.executemany(insert_query, val)\n",
    "    connection.commit()\n",
    "    print(\"Records inserted successfully.\")\n",
    "except mysql.connector.Error as error:\n",
    "    print(\"Failed to insert into MySQL table {}\".format(error))"
   ]
  },
  {
   "cell_type": "markdown",
   "id": "75b8ce5f",
   "metadata": {
    "id": "75b8ce5f"
   },
   "source": [
    "#### Table: rating\n",
    "| RAT_ID | CUS_ID | SUPP_ID | RAT_RATSTARS |\n",
    "| --- | --- | --- | --- | \n",
    "| 1 | 2 | 2 | 4 |\n",
    "| 2 | 3 | 4 | 3 | \n",
    "| 3 | 5 | 1 | 5 |\n",
    "| 4 | 1 | 3 | 2 |\n",
    "| 5 | 4 | 5 | 4 |"
   ]
  },
  {
   "cell_type": "code",
   "execution_count": 18,
   "id": "6d5f1e18",
   "metadata": {
    "id": "6d5f1e18"
   },
   "outputs": [
    {
     "name": "stdout",
     "output_type": "stream",
     "text": [
      "Records inserted successfully.\n"
     ]
    }
   ],
   "source": [
    "# insert into \"rating\" table\n",
    "insert_query = \"INSERT INTO rating (RAT_ID, CUS_ID, SUPP_ID, RAT_RATSTARS) VALUES (%s, %s, %s, %s)\"\n",
    "val = [(1,2,2,4),\n",
    "       (2,3,4,3),\n",
    "       (3,5,1,5),\n",
    "       (4,1,3,2),\n",
    "       (5,4,5,4)]\n",
    "\n",
    "\n",
    "try:\n",
    "    cursorObject.executemany(insert_query, val)\n",
    "    connection.commit()\n",
    "    print(\"Records inserted successfully.\")\n",
    "except mysql.connector.Error as error:\n",
    "    print(\"Failed to insert into MySQL table {}\".format(error))"
   ]
  },
  {
   "cell_type": "markdown",
   "id": "b59361c3",
   "metadata": {
    "id": "b59361c3"
   },
   "source": [
    "### Q3) Display the number of the customer group by their genders who have placed any order of amount greater than or equal to Rs.3000."
   ]
  },
  {
   "cell_type": "code",
   "execution_count": 21,
   "id": "fcafaf3c",
   "metadata": {
    "id": "fcafaf3c"
   },
   "outputs": [
    {
     "name": "stdout",
     "output_type": "stream",
     "text": [
      "  CUS_GENDER  COUNT\n",
      "0          M      1\n",
      "1          F      1\n"
     ]
    }
   ],
   "source": [
    "Query3=     \"\"\"select customer.cus_gender,count(customer.cus_gender) as count \n",
    "            from customer inner join `orders` on customer.cus_id=`orders`.cus_id \n",
    "            where `orders`.ord_amount>=3000 group by customer.cus_gender;\"\"\"\n",
    "\n",
    "try:\n",
    "    cursorObject.execute(Query3)\n",
    "    output = cursorObject.fetchall()\n",
    "\n",
    "    ## Lets put the output of this query in pandas DataFrame\n",
    "    output_df = pd.DataFrame(output, columns=['CUS_GENDER','COUNT'])\n",
    "    print(output_df)\n",
    "except Exception as e:\n",
    "    print(\"An error occurred: \", e)"
   ]
  },
  {
   "cell_type": "markdown",
   "id": "e49e04f5",
   "metadata": {
    "id": "e49e04f5"
   },
   "source": [
    "### Q4) Display all the order along with product name ordered by a customer having Customer_Id=2;"
   ]
  },
  {
   "cell_type": "code",
   "execution_count": 23,
   "id": "9dcb7883",
   "metadata": {
    "id": "9dcb7883"
   },
   "outputs": [
    {
     "name": "stdout",
     "output_type": "stream",
     "text": [
      "   Order Id  Order Amount  Order Date  Customer Id  Product Id Product Name\n",
      "0        50          2000  2021-10-06            2           1        GTA V\n"
     ]
    }
   ],
   "source": [
    "Query4 = \"\"\"SELECT o.*, p.pro_name\n",
    "FROM `orders` o\n",
    "JOIN product_details pd ON o.prod_id = pd.prod_id\n",
    "JOIN product p ON pd.pro_id = p.pro_id\n",
    "WHERE o.cus_id = 2;\n",
    ";\"\"\"\n",
    "\n",
    "try:\n",
    "    cursorObject.execute(Query4)\n",
    "    output = cursorObject.fetchall()\n",
    "\n",
    "\n",
    "    output_df = pd.DataFrame(\n",
    "    output,\n",
    "    columns=[\"ORD_ID\", \"ORD_AMOUNT\", \"ORD_DATE\", \"CUS_ID\", \"PROD_ID\", \"PRO_NAME\"],\n",
    ")\n",
    "    output_df = output_df.rename(\n",
    "    columns={\n",
    "        \"ORD_ID\": \"Order Id\",\n",
    "        \"ORD_AMOUNT\": \"Order Amount\",\n",
    "        \"ORD_DATE\": \"Order Date\",\n",
    "        \"CUS_ID\": \"Customer Id\",\n",
    "        \"PROD_ID\": \"Product Id\",\n",
    "        \"PRO_NAME\": \"Product Name\",\n",
    "    }\n",
    ")\n",
    "\n",
    "    print(output_df)\n",
    "except Exception as e:\n",
    "    print(\"An error occurred: \", e)"
   ]
  },
  {
   "cell_type": "markdown",
   "id": "3a33398e",
   "metadata": {
    "id": "3a33398e"
   },
   "source": [
    "### Q5) Display the Supplier details who can supply more than one product."
   ]
  },
  {
   "cell_type": "code",
   "execution_count": 24,
   "id": "e933b979",
   "metadata": {
    "id": "e933b979"
   },
   "outputs": [
    {
     "name": "stdout",
     "output_type": "stream",
     "text": [
      "   SUPP_ID       SUPP_NAME SUPP_CITY  SUPP_PHONE\n",
      "0        1  Rajesh Retails     Delhi  1234567890\n"
     ]
    }
   ],
   "source": [
    "Query5 =     \"\"\"select s.* \n",
    "               from supplier s\n",
    "               where s.supp_id in \n",
    "               (select pd.supp_id from product_details pd\n",
    "               group by pd.supp_id having count(pd.supp_id)>1) \n",
    "               ;\"\"\"\n",
    "try:\n",
    "    cursorObject.execute(Query5)\n",
    "    output = cursorObject.fetchall()\n",
    "\n",
    "\n",
    "    output_df = pd.DataFrame(output, columns=['SUPP_ID','SUPP_NAME','SUPP_CITY','SUPP_PHONE'])\n",
    "    print(output_df)\n",
    "except Exception as e:\n",
    "    print(\"An error occurred: \", e)"
   ]
  },
  {
   "cell_type": "markdown",
   "id": "5fd319ef",
   "metadata": {
    "id": "5fd319ef"
   },
   "source": [
    "### Q6) Find the category of the product whose order amount is minimum."
   ]
  },
  {
   "cell_type": "code",
   "execution_count": 25,
   "id": "06f5cb51",
   "metadata": {
    "id": "06f5cb51"
   },
   "outputs": [
    {
     "name": "stdout",
     "output_type": "stream",
     "text": [
      "   CAT_ID   CAT_NAME\n",
      "0       3  GROCERIES\n"
     ]
    }
   ],
   "source": [
    "Q6 = \"\"\"SELECT CATEGORY.* FROM `ORDERS` \n",
    "             INNER JOIN PRODUCT_DETAILS ON `ORDERS`.PROD_ID = PRODUCT_DETAILS.PROD_ID \n",
    "             INNER JOIN PRODUCT ON PRODUCT.PRO_ID = PRODUCT_DETAILS.PRO_ID\n",
    "             INNER JOIN CATEGORY ON CATEGORY.CAT_ID = PRODUCT.CAT_ID \n",
    "             WHERE `ORDERS`.ORD_AMOUNT = (SELECT MIN(ORD_AMOUNT) FROM `ORDERS`);\"\"\"\n",
    "\n",
    "Q6a = \"\"\"select ct.* from category ct inner join product p on ct.cat_id=p.cat_id \n",
    "inner join product_details pd on p.pro_id=pd.pro_id \n",
    "inner join orders o on pd.prod_id=o.prod_id order by o.ord_amount asc limit 1; \"\"\"\n",
    "\n",
    "try:\n",
    "    cursorObject.execute(Q6a)\n",
    "    output = cursorObject.fetchall()\n",
    "\n",
    "    output_df = pd.DataFrame(output, columns=['CAT_ID','CAT_NAME'])\n",
    "    print(output_df)\n",
    "except Exception as e:\n",
    "    print(\"An error occurred: \", e)"
   ]
  },
  {
   "cell_type": "markdown",
   "id": "107102d4",
   "metadata": {
    "id": "107102d4"
   },
   "source": [
    "### Q7) Display the Id and Name of the Product ordered after “2021-10-05”."
   ]
  },
  {
   "cell_type": "code",
   "execution_count": 26,
   "id": "5d3fc7e8",
   "metadata": {
    "id": "5d3fc7e8"
   },
   "outputs": [
    {
     "name": "stdout",
     "output_type": "stream",
     "text": [
      "   PRO_ID PRO_NAME\n",
      "0       4     OATS\n",
      "1       1    GTA V\n"
     ]
    }
   ],
   "source": [
    "Q7=     \"\"\"select product.pro_id,product.pro_name \n",
    "               from `orders` inner join product_details on product_details.prod_id=`orders`.prod_id \n",
    "               inner join product on product.pro_id=product_details.pro_id where `orders`.ord_date>\"2021-10-05\";\"\"\"\n",
    "\n",
    "Q7a = \"\"\"select p.pro_id, p.pro_name from product p\n",
    " inner join product_details pd on p.pro_id=pd.pro_id\n",
    " inner join orders o on pd.prod_id=o.prod_id where o.ord_date > '2021-10-05'; \"\"\"\n",
    "\n",
    "try:\n",
    "    cursorObject.execute(Q7)\n",
    "    output = cursorObject.fetchall()\n",
    "\n",
    "\n",
    "    output_df = pd.DataFrame(output, columns=['PRO_ID','PRO_NAME'])\n",
    "    print(output_df)\n",
    "except Exception as e:\n",
    "    print(\"An error occurred: \", e)"
   ]
  },
  {
   "cell_type": "markdown",
   "id": "bdce7167",
   "metadata": {
    "id": "bdce7167"
   },
   "source": [
    "### Q8) Print the top 3 supplier name and id and rating on the basis of their rating along with the customer name who has given the rating."
   ]
  },
  {
   "cell_type": "code",
   "execution_count": 27,
   "id": "fa0cbe44",
   "metadata": {
    "id": "fa0cbe44"
   },
   "outputs": [
    {
     "name": "stdout",
     "output_type": "stream",
     "text": [
      "   SUPP_ID       SUPP_NAME CUS_NAME  RAT_RATSTARS\n",
      "0        1  Rajesh Retails   PULKIT             5\n",
      "1        2    Appario Ltd.     AMAN             4\n",
      "2        5     Mittal Ltd.    MEGHA             4\n"
     ]
    }
   ],
   "source": [
    "Query8=     \"\"\"select supplier.supp_id,supplier.supp_name,customer.cus_name,rating.rat_ratstars \n",
    "               from rating inner join supplier on rating.supp_id=supplier.supp_id \n",
    "               inner join customer on rating.cus_id=customer.cus_id order by rating.rat_ratstars desc limit 3;\"\"\"\n",
    "\n",
    "try:\n",
    "    cursorObject.execute(Query8)\n",
    "    output = cursorObject.fetchall()\n",
    "\n",
    "\n",
    "    output_df = pd.DataFrame(output, columns=['SUPP_ID','SUPP_NAME','CUS_NAME','RAT_RATSTARS'])\n",
    "    print(output_df)\n",
    "except Exception as e:\n",
    "    print(\"An error occurred: \", e)"
   ]
  },
  {
   "cell_type": "markdown",
   "id": "346ec2a1",
   "metadata": {
    "id": "346ec2a1"
   },
   "source": [
    "### Q9) Display customer name and gender whose names start or end with character 'A'."
   ]
  },
  {
   "cell_type": "code",
   "execution_count": 28,
   "id": "e571b5fd",
   "metadata": {
    "id": "e571b5fd"
   },
   "outputs": [
    {
     "name": "stdout",
     "output_type": "stream",
     "text": [
      "  CUS_NAME CUS_GENDER\n",
      "0   AAKASH          M\n",
      "1     AMAN          M\n",
      "2     NEHA          F\n",
      "3    MEGHA          F\n"
     ]
    }
   ],
   "source": [
    "Q9=     \"\"\"select customer.cus_name ,customer.cus_gender \n",
    "               from customer where customer.cus_name like 'A%' or customer.cus_name like '%A';\"\"\"\n",
    "\n",
    "Q9a = \"\"\"SELECT c.cus_name, c.cus_gender \n",
    "FROM customer c \n",
    "WHERE c.cus_name LIKE 'a%' OR c.cus_name LIKE '%a';\n",
    " \"\"\"\n",
    "\n",
    "try:\n",
    "    cursorObject.execute(Q9)\n",
    "    output = cursorObject.fetchall()\n",
    "    \n",
    "        \n",
    "    output_df = pd.DataFrame(output, columns=['CUS_NAME','CUS_GENDER'])\n",
    "    print(output_df)\n",
    "except Exception as e:\n",
    "    print(\"An error occurred: \", e)"
   ]
  },
  {
   "cell_type": "markdown",
   "id": "d0b01f77",
   "metadata": {
    "id": "d0b01f77"
   },
   "source": [
    "### Q10) Display the total order amount of the male customers."
   ]
  },
  {
   "cell_type": "code",
   "execution_count": 29,
   "id": "c3fa76e3",
   "metadata": {
    "id": "c3fa76e3"
   },
   "outputs": [
    {
     "name": "stdout",
     "output_type": "stream",
     "text": [
      "       0\n",
      "0  34500\n"
     ]
    }
   ],
   "source": [
    "Query10 = \"\"\"SELECT SUM(ORD_AMOUNT) AS TOTAL FROM (\n",
    "        SELECT O.ORD_AMOUNT,O.CUS_ID,C.CUS_GENDER\n",
    "        FROM orders O\n",
    "        INNER JOIN customer C\n",
    "        ON O.CUS_ID = C.CUS_ID\n",
    "        WHERE C.CUS_GENDER='M') T;\"\"\"\n",
    "\n",
    "try:\n",
    "        cursorObject.execute(Query10)\n",
    "        output = cursorObject.fetchall()\n",
    "\n",
    "        output_df = pd.DataFrame(output)\n",
    "        print(output_df)\n",
    "except Exception as e:\n",
    "        print(\"An error occurred: \", e)"
   ]
  },
  {
   "cell_type": "markdown",
   "id": "ff8a9971",
   "metadata": {
    "id": "ff8a9971"
   },
   "source": [
    "### Q11) Display all the Customers left outer join with  the orders"
   ]
  },
  {
   "cell_type": "code",
   "execution_count": 30,
   "id": "a340c6d6",
   "metadata": {
    "id": "a340c6d6"
   },
   "outputs": [
    {
     "name": "stdout",
     "output_type": "stream",
     "text": [
      "(1, 'AAKASH', '9999999999', 'DELHI', 'M', 26, 2000, datetime.date(2021, 10, 5), 1, 1)\n",
      "(2, 'AMAN', '9785463215', 'NOIDA', 'M', 50, 2000, datetime.date(2021, 10, 6), 2, 1)\n",
      "(3, 'NEHA', '9999999999', 'MUMBAI', 'F', 20, 1500, datetime.date(2021, 10, 12), 3, 5)\n",
      "(4, 'MEGHA', '9994562399', 'KOLKATA', 'F', 30, 3500, datetime.date(2021, 8, 16), 4, 3)\n",
      "(5, 'PULKIT', '7895999999', 'LUCKNOW', 'M', 25, 30500, datetime.date(2021, 9, 16), 5, 2)\n",
      "   0       1           2        3  4   5      6           7  8  9\n",
      "0  1  AAKASH  9999999999    DELHI  M  26   2000  2021-10-05  1  1\n",
      "1  2    AMAN  9785463215    NOIDA  M  50   2000  2021-10-06  2  1\n",
      "2  3    NEHA  9999999999   MUMBAI  F  20   1500  2021-10-12  3  5\n",
      "3  4   MEGHA  9994562399  KOLKATA  F  30   3500  2021-08-16  4  3\n",
      "4  5  PULKIT  7895999999  LUCKNOW  M  25  30500  2021-09-16  5  2\n"
     ]
    }
   ],
   "source": [
    "cursorObject.execute(\"\"\"SELECT * \n",
    "        FROM e_commerce.customer C\n",
    "        LEFT OUTER JOIN e_commerce.orders O\n",
    "        ON C.CUS_ID=O.CUS_ID;\"\"\")\n",
    "    \n",
    "results=cursorObject.fetchall()\n",
    "for result in results:\n",
    "    print(result)\n",
    "\n",
    "Q11 = \"\"\"select c.*, o.* from customer c left join orders o on c.cus_id=o.cus_id; \"\"\"\n",
    "\n",
    "try:\n",
    "    cursorObject.execute(Q11)\n",
    "    output = cursorObject.fetchall()\n",
    "\n",
    "    output_df = pd.DataFrame(output)\n",
    "    print(output_df)\n",
    "except Exception as e:\n",
    "    print(\"An error occurred: \", e)"
   ]
  },
  {
   "cell_type": "markdown",
   "id": "0a72afe3",
   "metadata": {
    "id": "0a72afe3"
   },
   "source": [
    "**NOTE:** Always close an open connection once you are done with the database operations"
   ]
  },
  {
   "cell_type": "markdown",
   "id": "8c88f479",
   "metadata": {
    "id": "8c88f479"
   },
   "source": [
    "## Truly GreatLearning:)"
   ]
  }
 ],
 "metadata": {
  "colab": {
   "name": "Lab Session  -  E-Commerce.ipynb",
   "provenance": []
  },
  "kernelspec": {
   "display_name": "Python 3 (ipykernel)",
   "language": "python",
   "name": "python3"
  },
  "language_info": {
   "codemirror_mode": {
    "name": "ipython",
    "version": 3
   },
   "file_extension": ".py",
   "mimetype": "text/x-python",
   "name": "python",
   "nbconvert_exporter": "python",
   "pygments_lexer": "ipython3",
   "version": "3.11.5"
  }
 },
 "nbformat": 4,
 "nbformat_minor": 5
}
